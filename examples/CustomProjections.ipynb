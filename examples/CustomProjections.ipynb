{
 "cells": [
  {
   "cell_type": "markdown",
   "metadata": {},
   "source": [
    "## New Built-In Projections\n",
    "\n",
    "ipyleaflet now supports custom map projections and includes 2 base layers for polar projections:\n",
    "NASA's Next GenerationBlue Marble 500m for the Arctic and Antarctic regions."
   ]
  },
  {
   "cell_type": "code",
   "execution_count": 1,
   "metadata": {},
   "outputs": [
    {
     "data": {
      "application/vnd.jupyter.widget-view+json": {
       "model_id": "5dceaca634ca4b5aba5ad5b03f26a0a6",
       "version_major": 2,
       "version_minor": 0
      },
      "text/plain": [
       "Map(center=[90, 0], controls=(ZoomControl(options=['position', 'zoom_in_text', 'zoom_in_title', 'zoom_out_text…"
      ]
     },
     "metadata": {},
     "output_type": "display_data"
    }
   ],
   "source": [
    "import geopandas, os, json, requests\n",
    "from ipyleaflet import (\n",
    "    Map,\n",
    "    basemaps,\n",
    "    basemap_to_tiles,\n",
    "    Marker,\n",
    "    TileLayer,\n",
    "    WMSLayer,\n",
    "    Polygon,\n",
    "    GeoJSON,\n",
    "    GeoData,\n",
    "    DrawControl,\n",
    "    projections\n",
    ")\n",
    "\n",
    "def handle_draw(target, action, geo_json):\n",
    "    print(action, geo_json)\n",
    "    \n",
    "dc = DrawControl(marker={'shapeOptions': {'color': '#0000FF'}})\n",
    "dc.on_draw(handle_draw)\n",
    "\n",
    "# note that we need to use the same projection for the our layer and the map.\n",
    "m1 = Map(center=(90, 0),\n",
    "        zoom=0,\n",
    "        basemap=basemaps.NASAGIBS.BlueMarble3413,\n",
    "        crs=projections.EPSG3413)\n",
    "m1.add_control(dc)\n",
    "m1"
   ]
  },
  {
   "cell_type": "markdown",
   "metadata": {},
   "source": [
    "### Data Layers with custom projections\n",
    "\n",
    "If we want to use a vector layer with a custom projection Leaflet will do the reprojection as long as our layer uses WS84 (lat lon) coordinates. This is particularly handy with GeoJSON as we don't need to do anything to reproject our features. The following cell will load the european contries boundaries and will reproject them to be render in our polar projection. \n",
    "\n"
   ]
  },
  {
   "cell_type": "code",
   "execution_count": 4,
   "metadata": {},
   "outputs": [],
   "source": [
    "def download_geojson(projection_sample, url):\n",
    "    if not os.path.exists(projection_sample):\n",
    "        url = url\n",
    "        r = requests.get(url)\n",
    "        with open('europe_110.geo.json', 'w') as f:\n",
    "            f.write(r.content.decode(\"utf-8\"))\n",
    "\n",
    "    with open('europe_110.geo.json', 'r') as f:\n",
    "        data = json.load(f)\n",
    "    return data\n",
    "\n",
    "geo_json = download_geojson('europe_110.geo.json',\n",
    "                            'https://github.com/jupyter-widgets/ipyleaflet/raw/master/examples/europe_110.geo.json')\n",
    "\n",
    "geo_data = GeoJSON(data = geo_json,\n",
    "                   style={'color': 'black', 'fillColor': '#366370', 'opacity':0.05, 'weight':1.9, 'dashArray':'2', 'fillOpacity':0.6},\n",
    "                   hover_style={'fillColor': '#b08a3e' , 'fillOpacity': 0.9},\n",
    "                   name = 'Countries')\n",
    "m1.add_layer(geo_data)"
   ]
  },
  {
   "cell_type": "markdown",
   "metadata": {},
   "source": [
    "## Custom Projections\n",
    "\n",
    "Chances are that if you are reading this you want to use a custom projection for your map. This is now supported via [Proj4Leaflet](https://github.com/kartena/Proj4Leaflet). The only thing you need to do is to declare the properties of your projection and Leaflet will do the rest. \n",
    "\n",
    "Keep in mind that this feature is for predefined projections, so if you use a backend as GeoServer, MapServer etc, they can do the reprojection for you and you can use that projection to show your layers in a map. **ipyleaflet won't reproject your layer on the fly**"
   ]
  },
  {
   "cell_type": "code",
   "execution_count": null,
   "metadata": {},
   "outputs": [],
   "source": [
    "# We're going to use https://georepository.com/crs_2163/US-National-Atlas-Equal-Area.html\n",
    "my_projection = {\n",
    "    'name': 'EPSG:2163',\n",
    "    'custom': True, #This is important, it tells ipyleaflet that this projection is not on the predefined ones.\n",
    "    'proj4def': '+proj=laea +lat_0=45 +lon_0=-100 +x_0=0 +y_0=0 +a=6370997 +b=6370997 +units=m +no_defs',\n",
    "    'origin': [-2215235.82, 420644.41],\n",
    "    'bounds': [\n",
    "        [-8046094.81, 1819060.18],\n",
    "        [988364.71, 3511186.72]   \n",
    "    ],\n",
    "    'resolutions': [\n",
    "        8192.0,\n",
    "        4096.0,\n",
    "        2048.0,\n",
    "        1024.0,\n",
    "        512.0,\n",
    "        256.0\n",
    "    ]\n",
    "}\n",
    "\n",
    "wms = WMSLayer(\n",
    "    url='https://ahocevar.com/geoserver/wms',\n",
    "    layers='ne:NE1_HR_LC_SR_W_DR',\n",
    "    format='image/png',\n",
    "    transparent=True,\n",
    "    min_zoom=0,\n",
    "    attribution='ahocevar geospatial',\n",
    "    crs=my_projection # I'm asking this WMS service to reproject the tile layer using EPSG:2163\n",
    ")\n",
    "\n",
    "m2 = Map(center=(40, -104),\n",
    "        zoom=0,\n",
    "        layers=(wms,),\n",
    "        crs=my_projection)\n",
    "\n",
    "\n",
    "dc2 = DrawControl(marker={'shapeOptions': {'color': '#0000FF'}})\n",
    "dc2.on_draw(handle_draw)\n",
    "\n",
    "m2.add_control(dc2)\n",
    "\n",
    "m2"
   ]
  },
  {
   "cell_type": "markdown",
   "metadata": {},
   "source": [
    "## GeoJSON in custom projections.\n"
   ]
  },
  {
   "cell_type": "code",
   "execution_count": null,
   "metadata": {},
   "outputs": [],
   "source": [
    "import matplotlib\n",
    "from matplotlib import cm\n",
    "\n",
    "cmap = cm.get_cmap('viridis')\n",
    "\n",
    "geo_json = download_geojson('population_diversity_usa.json',\n",
    "                            'https://www.chapelhillopendata.org/api/v2/catalog/datasets/census-diversity/exports/geojson')\n",
    "\n",
    "for feature in geo_json['features']:\n",
    "    diversity_index = float(feature['properties']['divindx_cy']) / 100.0\n",
    "    rgba = cmap(diversity_index)\n",
    "    color = f'rgb({rgba[0]},{rgba[1]},{rgba[2]})'\n",
    "    feature['properties']['style'] = {\n",
    "        'color': color,\n",
    "        'weight': 1,\n",
    "        'fillColor': color,\n",
    "        'fillOpacity': 0.8\n",
    "    }\n",
    "\n",
    "geo_data = GeoJSON(data = geo_json,\n",
    "                   hover_style={'fillColor': '#b08a3e' , 'fillOpacity': 0.9},\n",
    "                   name = 'Diversity Index')\n",
    "\n",
    "m2.add_layer(geo_data)"
   ]
  }
 ],
 "metadata": {
  "kernelspec": {
   "display_name": "Python 3",
   "language": "python",
   "name": "python3"
  },
  "language_info": {
   "codemirror_mode": {
    "name": "ipython",
    "version": 3
   },
   "file_extension": ".py",
   "mimetype": "text/x-python",
   "name": "python",
   "nbconvert_exporter": "python",
   "pygments_lexer": "ipython3",
   "version": "3.8.3"
  }
 },
 "nbformat": 4,
 "nbformat_minor": 4
}
